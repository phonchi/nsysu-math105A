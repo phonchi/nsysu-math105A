{
  "cells": [
    {
      "cell_type": "markdown",
      "metadata": {
        "id": "S43Yd0de2REp"
      },
      "source": [
        "# Assignment 7"
      ]
    },
    {
      "cell_type": "markdown",
      "metadata": {
        "id": "A4_QjCdg2REu"
      },
      "source": [
        "#### Student ID: *Double click here to fill the Student ID*\n",
        "\n",
        "#### Name: *Double click here to fill the name*"
      ]
    },
    {
      "cell_type": "markdown",
      "source": [
        "### (1) Which of the following is not a control statement (structure)?\n",
        "\n",
        "(A) If-else statement\n",
        "\n",
        "(B) While statement\n",
        "\n",
        "(C) For statement\n",
        "\n",
        "(D) Assignment statement"
      ],
      "metadata": {
        "id": "jfjOG4GmbbOn"
      }
    },
    {
      "cell_type": "markdown",
      "source": [
        "> Ans: *double click here to answer the question.*"
      ],
      "metadata": {
        "id": "q-esSq79bxT5"
      }
    },
    {
      "cell_type": "markdown",
      "metadata": {
        "id": "xdbRDHPu2REv"
      },
      "source": [
        "### (2) What is the output of the following program:\n",
        "\n",
        "```python\n",
        "x = 2022\n",
        "x = x + 1\n",
        "print(x)\n",
        "```\n",
        "(A) 2022\n",
        "\n",
        "(B) 2023\n",
        "\n",
        "(C) x + 1\n",
        "\n",
        "(D) Error because x = x + 1 is not possible mathematically"
      ]
    },
    {
      "cell_type": "markdown",
      "metadata": {
        "id": "Mu3NsJ3P2REw"
      },
      "source": [
        "> Ans: *double click here to answer the question.*"
      ]
    },
    {
      "cell_type": "markdown",
      "source": [
        "### (3) Assume that we execute the following assignment statements:\n",
        "\n",
        "```python\n",
        "w = 17 \n",
        "h = 12.0 \n",
        "a1 = (w // 2) \n",
        "a2 = (w / 2.0) \n",
        "a3 = (h / 3) \n",
        "a4 = (1.0 + (2 * 5)) \n",
        "```\n",
        "Which variable has a different data type compared with the others?\n",
        "\n",
        "(A) a1\n",
        "\n",
        "(B) a2 \n",
        "\n",
        "(C) a3\n",
        "\n",
        "(D) a4"
      ],
      "metadata": {
        "id": "K7cKh2qM4bUu"
      }
    },
    {
      "cell_type": "markdown",
      "metadata": {
        "id": "q2hQwIsx2REx"
      },
      "source": [
        "> Ans: *double click here to answer the question.*"
      ]
    },
    {
      "cell_type": "markdown",
      "metadata": {
        "id": "59tvrWGc2REx"
      },
      "source": [
        "### (4) What does the following code snippet do?\n",
        "\n",
        "```python\n",
        "s = 0\n",
        "for i in range(3,10):\n",
        "  s+=i\n",
        "```\n",
        "\n",
        "(A) Calculate the sum 4+5+6+7+...+9\n",
        "\n",
        "(B) Calculate the sum 3+4+5+6+...+10\n",
        "\n",
        "(C) Calculate the sum 3+4+5+6+...+9\n",
        "\n",
        "(D) Calculate the sum 4+5+6+7+...+10"
      ]
    },
    {
      "cell_type": "markdown",
      "metadata": {
        "id": "iGh60Z0j2REy"
      },
      "source": [
        "> Ans: *double click here to answer the question.*"
      ]
    },
    {
      "cell_type": "markdown",
      "metadata": {
        "id": "-FOoLn6N2REz"
      },
      "source": [
        "### (5) What is the output of the following program?\n",
        "\n",
        "```python\n",
        "lst = ['a', 'b', 'c', 'd', 'e']\n",
        "print(lst[1:])\n",
        "```\n",
        "\n",
        "(A) []\n",
        "\n",
        "(B) ['b']\n",
        "\n",
        "(C) ['b', 'c', 'd', 'e']\n",
        "\n",
        "(D) None of the above"
      ]
    },
    {
      "cell_type": "markdown",
      "metadata": {
        "id": "1HdWhzeZ2REz"
      },
      "source": [
        "> Ans: *double click here to answer the question.*"
      ]
    },
    {
      "cell_type": "markdown",
      "metadata": {
        "id": "R1WmAgDn2REz"
      },
      "source": [
        "### (6)  Suppose the Python function `Big_Print` is defined by\n",
        "\n",
        "```python\n",
        "def Big_Print (Y):\n",
        "  Y[3] = 7\n",
        "  print(Y)\n",
        "\n",
        "X = [1,3,5,9]\n",
        "Big_Print(X)\n",
        "print(X)\n",
        "```\n",
        "\n",
        "What will be printed when the above code is executed and why?\n",
        "\n"
      ]
    },
    {
      "cell_type": "markdown",
      "metadata": {
        "id": "n-POPEby2RE0"
      },
      "source": [
        "> Ans: *double click here to answer the question.*"
      ]
    },
    {
      "cell_type": "markdown",
      "metadata": {
        "id": "J70q1x4p2RE0"
      },
      "source": [
        "### (7) What is the difference between the compilation and interpretation?"
      ]
    },
    {
      "cell_type": "markdown",
      "metadata": {
        "id": "nPt9jfv02RE2"
      },
      "source": [
        "> Ans: *double click here to answer the question.*"
      ]
    },
    {
      "cell_type": "markdown",
      "source": [
        "### (8) What is the difference between a tuple and a list in Python and when will you use a tuple instead of a list?"
      ],
      "metadata": {
        "id": "-Ci6cfOqd4qO"
      }
    },
    {
      "cell_type": "markdown",
      "source": [
        "> Ans: *double click here to answer the question.*"
      ],
      "metadata": {
        "id": "sZzlD34GeCaF"
      }
    },
    {
      "cell_type": "markdown",
      "source": [
        "### (9) The following code calculates 1+2...+100 using loops and print the intermediate results every 10 iterations. Try to change the loop using for statement.\n",
        "\n",
        "```python\n",
        "sum = 0\n",
        "i = 1\n",
        "while i <= 100:\n",
        "  sum +=i\n",
        "  if i %10 == 0:\n",
        "    print(sum)\n",
        "  i = i+1\n",
        "```"
      ],
      "metadata": {
        "id": "T23jhelieijm"
      }
    },
    {
      "cell_type": "code",
      "source": [
        "# coding your answer here."
      ],
      "metadata": {
        "id": "RVqm-SXrSEOs"
      },
      "execution_count": null,
      "outputs": []
    },
    {
      "cell_type": "markdown",
      "source": [
        "### (10) Write a simple program that asks the user to enter a list of numbers. In the end, when the user enters “end”, the program should print out the maximum and minimum of the numbers. You can assume that the user always inputs an integer. Hint: Try to use an infinity loop!"
      ],
      "metadata": {
        "id": "KDJ-qTP3vdmQ"
      }
    },
    {
      "cell_type": "code",
      "source": [
        "# Sample output is below"
      ],
      "metadata": {
        "colab": {
          "base_uri": "https://localhost:8080/"
        },
        "id": "mR6J6mVSwCxY",
        "outputId": "b930c24e-20be-4eb5-da75-2f16a85cfcaf"
      },
      "execution_count": null,
      "outputs": [
        {
          "output_type": "stream",
          "name": "stdout",
          "text": [
            "Please input number: 3\n",
            "Please input number: -1\n",
            "Please input number: 5\n",
            "Please input number: 7\n",
            "Please input number: 12\n",
            "Please input number: end\n",
            "Maximum:  12\n",
            "Minimum:  -1\n"
          ]
        }
      ]
    },
    {
      "cell_type": "code",
      "source": [
        "# coding your answer here."
      ],
      "metadata": {
        "id": "mIl9z5gmS5xC"
      },
      "execution_count": null,
      "outputs": []
    }
  ],
  "metadata": {
    "kernelspec": {
      "display_name": "Python 3",
      "language": "python",
      "name": "python3"
    },
    "language_info": {
      "codemirror_mode": {
        "name": "ipython",
        "version": 3
      },
      "file_extension": ".py",
      "mimetype": "text/x-python",
      "name": "python",
      "nbconvert_exporter": "python",
      "pygments_lexer": "ipython3",
      "version": "3.8.5"
    },
    "colab": {
      "provenance": [],
      "toc_visible": true
    }
  },
  "nbformat": 4,
  "nbformat_minor": 0
}