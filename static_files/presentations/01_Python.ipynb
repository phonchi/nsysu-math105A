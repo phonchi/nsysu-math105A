{
  "nbformat": 4,
  "nbformat_minor": 0,
  "metadata": {
    "colab": {
      "provenance": [],
      "collapsed_sections": []
    },
    "kernelspec": {
      "display_name": "Python 3",
      "language": "python",
      "name": "python3"
    },
    "language_info": {
      "codemirror_mode": {
        "name": "ipython",
        "version": 3
      },
      "file_extension": ".py",
      "mimetype": "text/x-python",
      "name": "python",
      "nbconvert_exporter": "python",
      "pygments_lexer": "ipython3",
      "version": "3.8.8"
    }
  },
  "cells": [
    {
      "cell_type": "markdown",
      "metadata": {
        "id": "11n5gndbRzoY"
      },
      "source": [
        "# Data and Programming"
      ]
    },
    {
      "cell_type": "markdown",
      "metadata": {
        "id": "SwFKFBMwRzoa"
      },
      "source": [
        "## Introduction"
      ]
    },
    {
      "cell_type": "markdown",
      "metadata": {
        "id": "Ss9hRGHDRzob"
      },
      "source": [
        "A programming language is a computer system created to allow humans to precisely express algorithms to the computer using a higher level of abstraction. Python is a programming language that was created by Guido van Rossum in the late 1980s. Today it is one of the top ten most-used languages, and remains popular in developing web applications, in scientific computation, \n",
        "and as an introductory language for students. Organizations that use Python \n",
        "range from Google to NASA, DropBox to Industrial Light & Magic, and \n",
        "across the spectrum of casual, scientific, and artistic computer users. \n",
        "\n",
        "Python emphasizes readability, and includes elements of the imperative, object- \n",
        "oriented, and functional programming paradigms, which will be explored in \n",
        "Chapter 9. Python is an interpreted language, which for beginners means that Python instructions can be typed into an interactive prompt, or can be stored in a plain text file (called a `“script”`) and run later. These instructions are evaluated and the commands are executed by the Python ***interpreter*** in something called the ***shell***."
      ]
    },
    {
      "cell_type": "markdown",
      "source": [
        "### Hello, Python"
      ],
      "metadata": {
        "id": "vk4VMOiLBn7L"
      }
    },
    {
      "cell_type": "markdown",
      "source": [
        "A ***command***, often called a ***statement***, instructs the interpreter to do something. The first program described in many programming Language introductions is “Hello, World”.  This simple program outputs a nominal greeting, demonstrating how a particular language produces a result, and also how a language represents text."
      ],
      "metadata": {
        "id": "3_gQhZxrBvQW"
      }
    },
    {
      "cell_type": "code",
      "metadata": {
        "id": "IPO0BNIcRzob"
      },
      "source": [
        "print('Hello, World!')"
      ],
      "execution_count": null,
      "outputs": []
    },
    {
      "cell_type": "markdown",
      "source": [
        "There are several aspects to note even in this simple Python statement. \n",
        "* First, \n",
        "`print()` is a built-in function, a pre-defined operation that Python can use to produce *output*, a result of the program that will be made visible to the user. The print is followed by opening and closing parentheses; what comes \n",
        "between those parentheses is the value to be printed.\n",
        "\n",
        "* Second, fixed values such as numbers, letters, and strings, are called ***constants*** because their value does not change. String constants use single quotes `'` or double quotes `\"` in Python. The quotation marks in front of the capital `'H'` and after the exclamation point denote the beginning and end of a string of characters that will be treated as a value in Python.\n",
        "\n",
        "Programming languages carry out their instructions very precisely. If a \n",
        "user makes subtle changes to the message between the starting and finishing \n",
        "quotation marks within the print statement, the resultant printed text will \n",
        "change accordingly. \n",
        "\n",
        "\n",
        "> Take a moment to try different capitalizations, punctua tion, and even different words within the print statement to see that this is so.\n"
      ],
      "metadata": {
        "id": "j3AXpU87B5bT"
      }
    },
    {
      "cell_type": "markdown",
      "source": [
        "## Variables"
      ],
      "metadata": {
        "id": "_6ZotSZXEzN5"
      }
    },
    {
      "cell_type": "markdown",
      "source": [
        "Python allows the user to name values for later use. These named storage locations are termed ***variables***, analogous to the mathematical variables often seen in algebra courses. Consider the slightly enhanced version of “Hello, World” below:"
      ],
      "metadata": {
        "id": "U_5LmIfNE165"
      }
    },
    {
      "cell_type": "code",
      "metadata": {
        "id": "OLi_7GqcRzox"
      },
      "source": [
        "message = 'Hello, World!'\n",
        "print(message)"
      ],
      "execution_count": null,
      "outputs": []
    },
    {
      "cell_type": "markdown",
      "source": [
        "The first line is an ***assignment statement***. The use of the `'='` can be misleading to beginners, who are accustomed to the algebraic usage of the equal \n",
        "sign. This assignment statement should be read, **“Variable message is assigned \n",
        "the string value 'Hello,  World!'”**. In general, an assignment statement will \n",
        "have a variable name on the left side of the equal sign and a value to the right."
      ],
      "metadata": {
        "id": "eLp7j4ueFK4h"
      }
    },
    {
      "cell_type": "markdown",
      "source": [
        "The naming of variables is largely up to the user in Python. Python's \n",
        "simple rules are that variable names must begin with an alphabet letter or the underscore character, and may consist of an arbitrary number of letters, digits, and the underscore character (A-z, 0-9, and _ ). While a variable named `m` may be sufficient for a two line example script, experienced programmers strive to give meaningful, descriptive variable names in their scripts.\n",
        "\n",
        "Python variable names are ***case-sensitive***, meaning that capitalization matters. A variable named `size` is treated as distinct from variables named `Size` or `SIZE`. A small number of ***keywords***, names that are reserved for special meaning in Python, cannot be used as variable names. You can view this list by accessing the built-in Python help system."
      ],
      "metadata": {
        "id": "7EvWoL27Fbqx"
      }
    },
    {
      "cell_type": "code",
      "source": [
        "help('keywords')"
      ],
      "metadata": {
        "id": "mJnA-rQOFIAm"
      },
      "execution_count": null,
      "outputs": []
    },
    {
      "cell_type": "markdown",
      "source": [
        "Variables can be used to store all of the types of data values that Python is \n",
        "able to represent."
      ],
      "metadata": {
        "id": "F-_Xq7N3G4ro"
      }
    },
    {
      "cell_type": "code",
      "source": [
        "my_integer = 5\n",
        "my_floating_point = 26.2\n",
        "my_Boolean = True\n",
        "my_string = 'characters'"
      ],
      "metadata": {
        "id": "8_XRcq0gGztA"
      },
      "execution_count": null,
      "outputs": []
    },
    {
      "cell_type": "markdown",
      "source": [
        "Observe that the types of values we see here correspond directly to the \n",
        " representations covered earlier in this chapter: Boolean trues and falses \n",
        "(ch 1), text (ch 3), integers (ch 2), and floating point \n",
        "numbers (ch 3).\n",
        "\n",
        "Python expresses octal or octhexadecimal values using a `0o` or `0x` prefix, as in"
      ],
      "metadata": {
        "id": "4N9z9kNzG9DQ"
      }
    },
    {
      "cell_type": "code",
      "source": [
        "my_integer = 0o17\n",
        "print(my_integer)"
      ],
      "metadata": {
        "id": "3ygo7NMlliWA"
      },
      "execution_count": null,
      "outputs": []
    },
    {
      "cell_type": "code",
      "source": [
        "my_integer = 0xFF\n",
        "print(my_integer)"
      ],
      "metadata": {
        "id": "1aGEfzV_G8Xy"
      },
      "execution_count": null,
      "outputs": []
    },
    {
      "cell_type": "markdown",
      "source": [
        "Specifying a value in octal or hexadecimal does not alter the representation of that value in the computer's memory, which stores integer values as a collection of ones and zeros regardless of the numerical base used in the programmer’s reasoning. Octal or hexadecimal notation remains a shortcut for humans, used in situations in which that representation may aid in understanding the script. The `print()` statement above thus prints, 255, the base ten interpretation of hexadecimal `0xFF`, because that is the default behavior for `print()`."
      ],
      "metadata": {
        "id": "2zOCqG7tHxy3"
      }
    },
    {
      "cell_type": "code",
      "source": [
        "print(10)\n",
        "print(3.14)\n",
        "print(2e10)"
      ],
      "metadata": {
        "id": "_jE07k-TmDwV"
      },
      "execution_count": null,
      "outputs": []
    },
    {
      "cell_type": "markdown",
      "source": [
        "`print()` can be used to print any numerical number including those in scientific notation."
      ],
      "metadata": {
        "id": "eZ99k_bcmL2_"
      }
    },
    {
      "cell_type": "markdown",
      "source": [
        "### Data types"
      ],
      "metadata": {
        "id": "BV5LcxKvKnml"
      }
    },
    {
      "cell_type": "markdown",
      "source": [
        "In Python variables and constants have a ***type***. We can ask Python what type something is by using the `type()` function"
      ],
      "metadata": {
        "id": "vxF99qxYKqKN"
      }
    },
    {
      "cell_type": "code",
      "source": [
        "type(4), type(0xFF), type('Hello, World!'), type(3.2)"
      ],
      "metadata": {
        "id": "HIwnHarAHqN2"
      },
      "execution_count": null,
      "outputs": []
    },
    {
      "cell_type": "code",
      "source": [
        "type(my_integer), type(my_string), type(my_floating_point)"
      ],
      "metadata": {
        "id": "yuLCRUfgLSN7"
      },
      "execution_count": null,
      "outputs": []
    },
    {
      "cell_type": "markdown",
      "source": [
        "You can convert object of one type to anaother using ***cast***"
      ],
      "metadata": {
        "id": "LWdCVrl0M7tM"
      }
    },
    {
      "cell_type": "code",
      "source": [
        "float(3)"
      ],
      "metadata": {
        "id": "eW-J5M1QLfr9"
      },
      "execution_count": null,
      "outputs": []
    },
    {
      "cell_type": "code",
      "source": [
        "int(3.9)"
      ],
      "metadata": {
        "id": "Q3VfAIceNHNB"
      },
      "execution_count": null,
      "outputs": []
    },
    {
      "cell_type": "code",
      "source": [
        "int('3')"
      ],
      "metadata": {
        "id": "YO7geNxFNrdA"
      },
      "execution_count": null,
      "outputs": []
    },
    {
      "cell_type": "code",
      "source": [
        "str(3)"
      ],
      "metadata": {
        "id": "PaSE-iN1NJKQ"
      },
      "execution_count": null,
      "outputs": []
    },
    {
      "cell_type": "markdown",
      "source": [
        "Python `ord()` and `chr()` are built-in functions. They are used to convert a character to an int and vice versa. Python `ord()` and `chr()` functions are exactly opposite of each other. \n",
        "\n",
        "Python `ord()` function takes string argument of a single Unicode character and return its integer Unicode code point value. Let’s look at some examples of using `ord()` function."
      ],
      "metadata": {
        "id": "kAGlrti-O_dS"
      }
    },
    {
      "cell_type": "code",
      "source": [
        "x = ord('A')\n",
        "print(x)"
      ],
      "metadata": {
        "id": "8ifgThqGNvNk"
      },
      "execution_count": null,
      "outputs": []
    },
    {
      "cell_type": "code",
      "source": [
        "print(ord('ç'))"
      ],
      "metadata": {
        "id": "bfUKZ19YPNOF"
      },
      "execution_count": null,
      "outputs": []
    },
    {
      "cell_type": "markdown",
      "source": [
        "Python `chr()` function takes integer argument and return the string representing a character at that code point."
      ],
      "metadata": {
        "id": "mFbauh61PVdd"
      }
    },
    {
      "cell_type": "code",
      "source": [
        "y = chr(65)\n",
        "print(y)"
      ],
      "metadata": {
        "id": "39M2v5ZnPTGx"
      },
      "execution_count": null,
      "outputs": []
    },
    {
      "cell_type": "markdown",
      "source": [
        "Note that Unicode characters, including those beyond the ubiquitous ASCII subset, can be included directly in strings when the text editor supports them,"
      ],
      "metadata": {
        "id": "QjhF7W6YPnAX"
      }
    },
    {
      "cell_type": "code",
      "source": [
        "print('₹1000') # Prints  1000, one thousand Indian Rupees"
      ],
      "metadata": {
        "id": "wkv1unHkPbtO"
      },
      "execution_count": null,
      "outputs": []
    },
    {
      "cell_type": "markdown",
      "source": [
        "or can be specified using four hexadecimal digits following a `'\\u'` prefix."
      ],
      "metadata": {
        "id": "yV-U-JNjQrAL"
      }
    },
    {
      "cell_type": "code",
      "source": [
        "print('\\u00A31000')    # Prints £1000, one thousand British Pounds Sterling"
      ],
      "metadata": {
        "id": "8Kqt7jPUQt6S"
      },
      "execution_count": null,
      "outputs": []
    },
    {
      "cell_type": "markdown",
      "source": [
        "The portion of the string `'\\u00A3'` encodes the Unicode representation \n",
        "of the British pound symbol. The 1000 follows immediately so that there \n",
        "will be no space between the currency symbol and the amount in the final \n",
        "output: `£1000`.\n",
        "\n",
        "These example statements introduce another language feature, in addition to Unicode text strings. The `#` symbol denotes the beginning of a ***comment***, a human-readable notation to the Python code that will be ignored by \n",
        "the computer when executed. Experienced programmers use comments in their code to explain difficult segments of the algorithm, include history or authorship information, or just to note where a human should pay attention when reading the code. A high-level description at the top of a script introduces a human reader to the overall purpose and methodology used in the script. All of the characters to the right of the `#` until the end of the line are ignored by Python."
      ],
      "metadata": {
        "id": "W2rEoIkLQQo6"
      }
    },
    {
      "cell_type": "markdown",
      "source": [
        "Finally, in Python, you can also perform the conversion between strings in the different number systems. "
      ],
      "metadata": {
        "id": "jIK4BelZMZ7o"
      }
    },
    {
      "cell_type": "code",
      "source": [
        "a = hex(13)\n",
        "type(a)"
      ],
      "metadata": {
        "id": "IkLyJHHgM9v-"
      },
      "execution_count": null,
      "outputs": []
    },
    {
      "cell_type": "markdown",
      "source": [
        "It has certain limitations that only support unsigned integers. You may implement the procedure described in our lecture for fractional parts or negative integers."
      ],
      "metadata": {
        "id": "2hAFjCHYY7tV"
      }
    },
    {
      "cell_type": "code",
      "source": [
        "hex(13), bin(13), oct(13), int('0b1100',2), int('0o17',8), int('0xFF', 16)"
      ],
      "metadata": {
        "id": "0RsXtlA5MHsy"
      },
      "execution_count": null,
      "outputs": []
    },
    {
      "cell_type": "markdown",
      "source": [
        "We can use the [form](https://colab.research.google.com/notebooks/forms.ipynb) to design a simple application."
      ],
      "metadata": {
        "id": "7Ki0CoKlqVnm"
      }
    },
    {
      "cell_type": "code",
      "source": [
        "#@title Decimal to other bases { run: \"auto\", vertical-output: true }\n",
        "Value = 50 #@param {type:\"integer\"}\n",
        "\n",
        "print(\"Decimal system:\", int(Value))\n",
        "print(\"Binary system:\", bin(Value))\n",
        "print(\"Hexadecimal system:\", hex(Value))\n",
        "print(\"Octal system:\", oct(Value))"
      ],
      "metadata": {
        "cellView": "form",
        "id": "YZJ7fN8_pONw"
      },
      "execution_count": null,
      "outputs": []
    },
    {
      "cell_type": "markdown",
      "source": [
        "## Operators and Expressions"
      ],
      "metadata": {
        "id": "LwTvxL92Rbgp"
      }
    },
    {
      "cell_type": "markdown",
      "source": [
        "Python's built-in operators allow numeric values to be manipulated and combined in a variety of familiar ways."
      ],
      "metadata": {
        "id": "-YaC1zvFRfpB"
      }
    },
    {
      "cell_type": "code",
      "source": [
        "print(3+4)     # Prints “7”, which is 3 plus 4.\n",
        "print(5-6)    # Prints “-1”, which is 5 minus 6\n",
        "print(7*8)     # Prints “56”, which is 7 times 8\n",
        "print(45/4)      # Prints “11.25”, which is 45 divided by 4\n",
        "print(2**10)     # Prints “1024”, which is 2 to the 10th power"
      ],
      "metadata": {
        "id": "x3NqVDtHPrRY"
      },
      "execution_count": null,
      "outputs": []
    },
    {
      "cell_type": "markdown",
      "source": [
        "When an operation such as forty-five divided by four produces a non-integer \n",
        "result, such as `11.25`, Python implicitly switches to a floating-point representation. When purely integer answers are desired, a different set of operators can be used."
      ],
      "metadata": {
        "id": "XkqWahmER-25"
      }
    },
    {
      "cell_type": "code",
      "source": [
        "print(45//4)     # Prints “11”, which is 45 integer divided by 4\n",
        "print(45%4)      # Prints “1”, because 4 * 11 + 1 = 45"
      ],
      "metadata": {
        "id": "7yub5hd3RqQz"
      },
      "execution_count": null,
      "outputs": []
    },
    {
      "cell_type": "markdown",
      "source": [
        "The double slash signifies the integer floor division operator, while the percentage symbol signifies the modulus, or remainder operator. Taken together, we can read  these  calculations as, “Four goes into forty-five eleven times, with a remainder of one.” In the earlier example, we used `**` to signify exponentiation, which can be somewhat surprising given that the caret symbol, `^`, is often used for this purpose in typewritten text and even \n",
        "some other programming languages. In Python, the caret operator belongs \n",
        "to the group of bitwise Boolean operations, which will be discussed in the \n",
        "next chapter."
      ],
      "metadata": {
        "id": "OTttc0pmSO6R"
      }
    },
    {
      "cell_type": "markdown",
      "source": [
        "String values also can be combined and manipulated in some intuitive ways."
      ],
      "metadata": {
        "id": "Le6KIYDuSdW6"
      }
    },
    {
      "cell_type": "code",
      "source": [
        "s = 'hello' + 'world'\n",
        "t = s * 4\n",
        "print(t)    # Prints “helloworldhelloworldhelloworldhelloworld”"
      ],
      "metadata": {
        "id": "ES9UKB-pSLJl"
      },
      "execution_count": null,
      "outputs": []
    },
    {
      "cell_type": "markdown",
      "source": [
        "The plus operator ***concatenates*** string values, while the multiplication  operator ***replicates*** string values."
      ],
      "metadata": {
        "id": "7SRVaTxWSkEZ"
      }
    },
    {
      "cell_type": "markdown",
      "source": [
        "The multiple meanings of some of the built-in operators can lead to confusion. This script will produce an error:"
      ],
      "metadata": {
        "id": "ZpQ5YSQXS0fw"
      }
    },
    {
      "cell_type": "code",
      "source": [
        "print('USD$' + 1000)     # TypeError: Can't convert 'int' to str implicitly"
      ],
      "metadata": {
        "id": "WowXfMBqShvq"
      },
      "execution_count": null,
      "outputs": []
    },
    {
      "cell_type": "markdown",
      "source": [
        "The error indicates that the string concatenation operator doesn't know what to do when the second operand is not also a string. The `str()` function can then be used to convert numeric representations into UTF-8 encoded text strings. Thus, the following modification to the `print()` statement above corrects the error."
      ],
      "metadata": {
        "id": "SHP1lllRS82g"
      }
    },
    {
      "cell_type": "code",
      "source": [
        "print('USD$' + str(1000))      # Prints “USD$1000”"
      ],
      "metadata": {
        "id": "P18eWvB_S5l1"
      },
      "execution_count": null,
      "outputs": []
    },
    {
      "cell_type": "markdown",
      "source": [
        "### Debugging"
      ],
      "metadata": {
        "id": "TIwbpk_NUoAg"
      }
    },
    {
      "cell_type": "markdown",
      "source": [
        "Programming languages are not very forgiving for beginners, and a great deal of time learning to write software can be spent trying to find bugs, or errors in \n",
        "the code. Locating such bugs and correcting them is thus known as ***debugging***. There are three major classes of bug that we create in software: ***syntax errors*** (mistakes in the symbols that have been typed), ***semantic errors*** (mistakes in the meaning of the program), and ***runtime errors*** (mistakes that occur when the program is executed.) \n",
        "\n",
        "Syntax errors are the most common for novices, and include simple errors \n",
        "such as forgetting one of the quote marks at the beginning or ending of a text \n",
        "string, failing to close open parentheses, or misspelling the function name \n",
        "`print()`. The Python interpreter will generally try to point these errors out \n",
        "when it encounters them, displaying an offending line number and a description of the problem. With some practice, a beginner can quickly learn to recognize and interpret common error cases. As examples:"
      ],
      "metadata": {
        "id": "mNNarsTrTREV"
      }
    },
    {
      "cell_type": "code",
      "source": [
        "print(5 + )"
      ],
      "metadata": {
        "id": "LEpvId03TMaf"
      },
      "execution_count": null,
      "outputs": []
    },
    {
      "cell_type": "markdown",
      "source": [
        "This expression is missing a value between the addition operator and the \n",
        "closing parenthesis."
      ],
      "metadata": {
        "id": "82tpxH4-Tyuw"
      }
    },
    {
      "cell_type": "code",
      "source": [
        "print(5.e)"
      ],
      "metadata": {
        "id": "qqiJD6a4Tvc8"
      },
      "execution_count": null,
      "outputs": []
    },
    {
      "cell_type": "markdown",
      "source": [
        "Python expects digits to follow the decimal point, not a letter."
      ],
      "metadata": {
        "id": "Bjzi5UBYT4Tw"
      }
    },
    {
      "cell_type": "code",
      "source": [
        "pront(5)"
      ],
      "metadata": {
        "id": "NJZ1mZByT0pr"
      },
      "execution_count": null,
      "outputs": []
    },
    {
      "cell_type": "markdown",
      "source": [
        "Like calling someone by the wrong name, misspelling the name of a known \n",
        "function or variable can result in confusion and embarrassment.\n",
        "\n",
        "Semantic errors are flaws in the algorithm, or flaws in the way the algorithm is expressed in a language. Examples might include using the wrong \n",
        "variable name in a calculation, or getting the order of arithmetic operations \n",
        "wrong in a complex expression. Python follows the standard rules for operator precedence, so in an expression like `total_pay = 40 + extra_hours * pay_rate`, the multiplication will be performed before the addition, incorrectly \n",
        "calculating the total pay. (Unless your pay rate happens to be $1/hour.) Use \n",
        "parenthesis to properly specify the order of operations in complex expressions, thereby avoiding both semantic errors and code that may be harder to understand (e.g., `total_pay = (40 + extra_hours) * pay_rate`).\n",
        "\n",
        "Finally, runtime errors at this level might include unintentionally dividing \n",
        "by zero or using a variable before you have defined it. Python reads statements from top to bottom, and it must see an assignment statement to a variable before that variable is used in an expression."
      ],
      "metadata": {
        "id": "sI6kzqcjT-2w"
      }
    },
    {
      "cell_type": "markdown",
      "source": [
        "## Audio"
      ],
      "metadata": {
        "id": "f7ixPoPuW7VQ"
      }
    },
    {
      "cell_type": "markdown",
      "source": [
        "Refer to https://librosa.org/doc/latest/index.html for more about audio processing."
      ],
      "metadata": {
        "id": "XezmNC1VW9R2"
      }
    },
    {
      "cell_type": "code",
      "source": [
        "import librosa\n",
        "%matplotlib inline\n",
        "import matplotlib.pyplot as plt\n",
        "import librosa.display\n",
        "import IPython.display as ipd"
      ],
      "metadata": {
        "id": "k-i4vj6sT8f7"
      },
      "execution_count": null,
      "outputs": []
    },
    {
      "cell_type": "markdown",
      "source": [
        "Download the audios from the internet"
      ],
      "metadata": {
        "id": "9V6z7M4rZnSE"
      }
    },
    {
      "cell_type": "code",
      "source": [
        "!wget https://ccrma.stanford.edu/workshops/mir2014/audio/simpleLoop.wav"
      ],
      "metadata": {
        "id": "jIHTnQS9XeHc"
      },
      "execution_count": null,
      "outputs": []
    },
    {
      "cell_type": "markdown",
      "source": [
        "Or you can upload the file from your filesystem"
      ],
      "metadata": {
        "id": "-n4_jvLSrKUs"
      }
    },
    {
      "cell_type": "code",
      "source": [
        "from google.colab import files\n",
        "uploaded = files.upload()"
      ],
      "metadata": {
        "id": "XnvMSHcdqqcN"
      },
      "execution_count": null,
      "outputs": []
    },
    {
      "cell_type": "code",
      "source": [
        "AUDIO_NAME = 'simpleLoop.wav'"
      ],
      "metadata": {
        "id": "xi-LZHaqj7E-"
      },
      "execution_count": null,
      "outputs": []
    },
    {
      "cell_type": "code",
      "source": [
        "x, sr = librosa.load(AUDIO_NAME)\n",
        "print(\"Number of samples: \"+str(x.shape[0]))\n",
        "print(\"sampling rate: \"+str(sr))"
      ],
      "metadata": {
        "id": "fNfv87slYM82"
      },
      "execution_count": null,
      "outputs": []
    },
    {
      "cell_type": "markdown",
      "source": [
        "Visualize the audio"
      ],
      "metadata": {
        "id": "_VnriQggZtAU"
      }
    },
    {
      "cell_type": "code",
      "source": [
        "plt.figure(figsize=(14, 5))\n",
        "librosa.display.waveplot(x, sr=sr)"
      ],
      "metadata": {
        "id": "MFBvGU82YgTP"
      },
      "execution_count": null,
      "outputs": []
    },
    {
      "cell_type": "code",
      "source": [
        "ipd.Audio(AUDIO_NAME) # load a local WAV file"
      ],
      "metadata": {
        "id": "Jl0SFAFrZeYf"
      },
      "execution_count": null,
      "outputs": []
    },
    {
      "cell_type": "markdown",
      "source": [
        "## Image"
      ],
      "metadata": {
        "id": "sjCADlbAaAiO"
      }
    },
    {
      "cell_type": "markdown",
      "source": [
        "Refer to https://scipy-lectures.org/advanced/image_processing/index.html#basic-image for more about image processing."
      ],
      "metadata": {
        "id": "SgvEF3qHklbw"
      }
    },
    {
      "cell_type": "code",
      "source": [
        "import requests\n",
        "import shutil\n",
        "from skimage import color \n",
        "from skimage import io\n",
        "from skimage.color import rgba2rgb\n",
        "\n",
        "def download_from_pokemondb(input_url, out_file):\n",
        "  r = requests.get(input_url, stream=True)\n",
        "  if r.status_code == 200:\n",
        "    with open(out_file, 'wb') as f:\n",
        "        r.raw.decode_content = True\n",
        "        shutil.copyfileobj(r.raw, f)"
      ],
      "metadata": {
        "id": "T6Q5yyQIZ7YJ"
      },
      "execution_count": null,
      "outputs": []
    },
    {
      "cell_type": "code",
      "source": [
        "download_from_pokemondb('https://img.pokemondb.net/sprites/diamond-pearl/normal/venusaur-f.png','venusaur.png')\n",
        "venusaurf = io.imread(\"/content/venusaur.png\")\n",
        "io.imsave('venusaur.jpg', venusaurf[:,:,:3])"
      ],
      "metadata": {
        "id": "BFQWFGzbasT1"
      },
      "execution_count": null,
      "outputs": []
    },
    {
      "cell_type": "code",
      "source": [
        "IMAGE_NAME = 'venusaur.jpg'"
      ],
      "metadata": {
        "id": "gpxmEnGNkLKf"
      },
      "execution_count": null,
      "outputs": []
    },
    {
      "cell_type": "code",
      "source": [
        "venusaur = io.imread(IMAGE_NAME)\n",
        "plt.imshow(venusaur)"
      ],
      "metadata": {
        "id": "ADZ4pUWHkIJI"
      },
      "execution_count": null,
      "outputs": []
    },
    {
      "cell_type": "code",
      "source": [
        "print(\"Shape:\", venusaur.shape)\n",
        "print(\"Values min/max:\", venusaur.min(), venusaur.max())"
      ],
      "metadata": {
        "id": "i5ZRkzoubLX6"
      },
      "execution_count": null,
      "outputs": []
    },
    {
      "cell_type": "code",
      "source": [
        "# Set the pixel at (40th row, 75th column) to \"black\"\n",
        "venusaur[40,75] = [255,255,255]"
      ],
      "metadata": {
        "id": "uASAIhqBbbyi"
      },
      "execution_count": null,
      "outputs": []
    },
    {
      "cell_type": "code",
      "source": [
        "plt.imshow(venusaur)"
      ],
      "metadata": {
        "id": "dfuZs9sGdiwv"
      },
      "execution_count": null,
      "outputs": []
    },
    {
      "cell_type": "markdown",
      "source": [
        "## Video"
      ],
      "metadata": {
        "id": "kwaPO91UeGpL"
      }
    },
    {
      "cell_type": "markdown",
      "source": [
        "Refer to https://scikit-image.org/docs/stable/user_guide/video.html for more about video processing."
      ],
      "metadata": {
        "id": "zY6i_R7UjMXI"
      }
    },
    {
      "cell_type": "code",
      "source": [
        "!pip install imageio-ffmpeg -qq"
      ],
      "metadata": {
        "id": "uUnFVgtUdlRr"
      },
      "execution_count": null,
      "outputs": []
    },
    {
      "cell_type": "code",
      "source": [
        "import imageio\n",
        "import IPython.display as ipd"
      ],
      "metadata": {
        "id": "_PcKrzoDhLB5"
      },
      "execution_count": null,
      "outputs": []
    },
    {
      "cell_type": "code",
      "source": [
        "!wget https://images.all-free-download.com/footage_preview/mp4/relaxation_on_beautiful_serene_lake_scenery_6892393.mp4 -O lake.mp4"
      ],
      "metadata": {
        "id": "u8hXvbU2f6h5"
      },
      "execution_count": null,
      "outputs": []
    },
    {
      "cell_type": "code",
      "source": [
        "VIDEO_NAME = 'lake.mp4'"
      ],
      "metadata": {
        "id": "0Q2Rnc3bkVjd"
      },
      "execution_count": null,
      "outputs": []
    },
    {
      "cell_type": "code",
      "source": [
        "video = imageio.get_reader(VIDEO_NAME,  'ffmpeg')"
      ],
      "metadata": {
        "id": "uDtlDRAifgVd"
      },
      "execution_count": null,
      "outputs": []
    },
    {
      "cell_type": "code",
      "source": [
        "metadata = video.get_meta_data()"
      ],
      "metadata": {
        "id": "ibMlGNaRgbwD"
      },
      "execution_count": null,
      "outputs": []
    },
    {
      "cell_type": "code",
      "source": [
        "metadata"
      ],
      "metadata": {
        "id": "n5fDaZo7ieJX"
      },
      "execution_count": null,
      "outputs": []
    },
    {
      "cell_type": "code",
      "source": [
        "video.count_frames()"
      ],
      "metadata": {
        "id": "46fbPWYai5OZ"
      },
      "execution_count": null,
      "outputs": []
    },
    {
      "cell_type": "code",
      "source": [
        "ipd.Video(VIDEO_NAME, embed=True)"
      ],
      "metadata": {
        "id": "ASopJoRcjBEq"
      },
      "execution_count": null,
      "outputs": []
    }
  ]
}